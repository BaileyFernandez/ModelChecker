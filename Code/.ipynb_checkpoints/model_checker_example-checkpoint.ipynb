{
  "cells": [
    {
      "cell_type": "markdown",
      "metadata": {},
      "source": [
        "# ModelChecker Example\n",
        "\n",
        "This notebook demonstrates how to use the ModelChecker package with Jupyter."
      ]
    },
    {
      "cell_type": "code",
      "execution_count": null,
      "metadata": {},
      "outputs": [],
      "source": [
        "# Import the ModelChecker package\n",
        "import model_checker\n",
        "print(f\"ModelChecker version: {model_checker.__version__}\")\n",
        "print(f\"ModelChecker location: {model_checker.__file__}\")"
      ]
    },
    {
      "cell_type": "code",
      "execution_count": null,
      "metadata": {},
      "outputs": [],
      "source": [
        "# Import the check_formula function for interactive use\n",
        "from model_checker.jupyter import check_formula"
      ]
    },
    {
      "cell_type": "code",
      "execution_count": null,
      "metadata": {},
      "outputs": [],
      "source": [
        "# Check a simple formula\n",
        "check_formula(\"(A \\\\equiv A)\")"
      ]
    },
    {
      "cell_type": "code",
      "execution_count": null,
      "metadata": {},
      "outputs": [],
      "source": [
        "# Create an interactive explorer\n",
        "from model_checker.jupyter import InteractiveModelExplorer\n",
        "\n",
        "explorer = InteractiveModelExplorer()\n",
        "explorer.display()"
      ]
    }
  ],
  "metadata": {
    "kernelspec": {
      "display_name": "Python 3",
      "language": "python",
      "name": "python3"
    },
    "language_info": {
      "codemirror_mode": {
        "name": "ipython",
        "version": 3
      },
      "file_extension": ".py",
      "mimetype": "text/x-python",
      "name": "python",
      "nbconvert_exporter": "python",
      "pygments_lexer": "ipython3",
      "version": "3.8.10"
    }
  },
  "nbformat": 4,
  "nbformat_minor": 4
}