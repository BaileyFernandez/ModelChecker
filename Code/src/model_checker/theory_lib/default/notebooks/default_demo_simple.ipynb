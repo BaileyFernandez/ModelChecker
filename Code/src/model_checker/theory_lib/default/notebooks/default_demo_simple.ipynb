{
 "cells": [
  {
   "cell_type": "markdown",
   "metadata": {},
   "source": [
    "## Simple Demo Notebook for Default Theory\n",
    "This is a minimal notebook to test default theory."
   ]
  },
  {
   "cell_type": "code",
   "execution_count": 1,
   "metadata": {},
   "outputs": [],
   "source": [
    "import model_checker\n",
    "from model_checker.theory_lib import default"
   ]
  },
  {
   "cell_type": "code",
   "execution_count": 2,
   "metadata": {},
   "outputs": [],
   "source": [
    "# Import operators\n",
    "operators = default.default_operators"
   ]
  },
  {
   "cell_type": "code",
   "execution_count": 3,
   "metadata": {},
   "outputs": [
    {
     "name": "stdout",
     "output_type": "stream",
     "text": [
      "========================================\n",
      "\n",
      "EXAMPLE DeMorgan's Law: there is no countermodel.\n",
      "\n",
      "Atomic States: 3\n",
      "\n",
      "Semantic Theory: Default Semantics\n",
      "\n",
      "Premise:\n",
      "1. \\neg (P \\wedge Q)\n",
      "\n",
      "Conclusion:\n",
      "2. (\\neg P \\vee \\neg Q)\n",
      "\n",
      "Z3 Run Time: 0.0227 seconds\n",
      "\n",
      "========================================\n"
     ]
    }
   ],
   "source": [
    "# Create simple test formula\n",
    "premises = [r\"\\neg (P \\wedge Q)\"]\n",
    "conclusions = [r\"(\\neg P \\vee \\neg Q)\"]\n",
    "\n",
    "# Create syntax object\n",
    "syntax = model_checker.syntactic.Syntax(premises, conclusions, operators)\n",
    "\n",
    "# Get default settings and create semantics\n",
    "default_settings = default.Semantics.DEFAULT_EXAMPLE_SETTINGS\n",
    "semantics = default.Semantics(default_settings)\n",
    "proposition_class = default.Proposition\n",
    "\n",
    "# Create model constraints\n",
    "model_constraints = model_checker.model.ModelConstraints(default_settings, syntax, semantics, proposition_class)\n",
    "\n",
    "# Create model structure\n",
    "model_structure = default.ModelStructure(model_constraints, default_settings)\n",
    "\n",
    "# Interpret sentences before printing\n",
    "sentences = model_structure.premises + model_structure.conclusions\n",
    "model_structure.interpret(sentences)\n",
    "\n",
    "# Print results\n",
    "model_structure.print_all(default_settings, \"DeMorgan's Law\", \"Default Semantics\")"
   ]
  }
 ],
 "metadata": {
  "kernelspec": {
   "display_name": "Python 3 (ipykernel)",
   "language": "python",
   "name": "python3"
  },
  "language_info": {
   "codemirror_mode": {
    "name": "ipython",
    "version": 3
   },
   "file_extension": ".py",
   "mimetype": "text/x-python",
   "name": "python",
   "nbconvert_exporter": "python",
   "pygments_lexer": "ipython3",
   "version": "3.12.8"
  }
 },
 "nbformat": 4,
 "nbformat_minor": 4
}
