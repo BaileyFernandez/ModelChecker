{
 "cells": [
  {
   "cell_type": "markdown",
   "metadata": {},
   "source": [
    "# Constitutive Theory Demo Notebook\n",
    "\n",
    "This notebook demonstrates constitutive logic examples from the default theory. It includes various countermodels showing invalid arguments and theorems showing valid arguments in constitutive logic."
   ]
  },
  {
   "cell_type": "code",
   "execution_count": 1,
   "metadata": {},
   "outputs": [
    {
     "name": "stdout",
     "output_type": "stream",
     "text": [
      "Current directory: /home/benjamin/Documents/Philosophy/Projects/ModelChecker/Code/src/model_checker/theory_lib/default/notebooks\n",
      "Python path: ['/home/benjamin/Documents/Philosophy/Projects/ModelChecker/Code/src/model_checker', '/home/benjamin/Documents/Philosophy/Projects/ModelChecker/Code/src/model_checker/theory_lib', '/home/benjamin/Documents/Philosophy/Projects/ModelChecker/Code/src/model_checker/theory_lib/default', '/home/benjamin/Documents/Philosophy/Projects/ModelChecker/Code', '/home/benjamin/Documents/Philosophy/Projects/ModelChecker/Code/src', '', '/nix/store/h3i0acpmr8mrjx07519xxmidv8mpax4y-python3-3.12.5/lib/python3.12/site-packages', '/nix/store/m3q9aavsms4fcj0n1x5w1g6cn60h0hc0-z3-solver-4.8.17-python/lib/python3.12/site-packages', '/nix/store/l7idy2qiiv0v0b6khfjvz3l5k6mnm47l-python3.12-setuptools-72.1.0/lib/python3.12/site-packages', '/nix/store/gam79wgc54sn8yyw2xkrqkf93v5lwaz1-python3.12-pip-24.0/lib/python3.12/site-packages', '/nix/store/w0ls6v4n3wb4jzriddxz4khx56dfmnmq-python3.12-networkx-3.3/lib/python3.12/site-packages', '/nix/store/99hl269v1igvjbp1znfk5jcarhzgy822-python3-3.12.8/lib/python312.zip', '/nix/store/99hl269v1igvjbp1znfk5jcarhzgy822-python3-3.12.8/lib/python3.12', '/nix/store/99hl269v1igvjbp1znfk5jcarhzgy822-python3-3.12.8/lib/python3.12/lib-dynload', '/nix/store/99hl269v1igvjbp1znfk5jcarhzgy822-python3-3.12.8/lib/python3.12/site-packages', '/nix/store/90r7m6gpnw5i5y30qq56zci99slfrfp6-python3-3.12.8-env/lib/python3.12/site-packages']\n"
     ]
    }
   ],
   "source": [
    "# Add parent directory to Python path to ensure module imports work\n",
    "import sys\n",
    "import os\n",
    "\n",
    "# Add parent directories to path for proper imports\n",
    "current_dir = os.path.dirname(os.path.abspath('.'))\n",
    "parent_dir = os.path.dirname(current_dir)\n",
    "parent_parent_dir = os.path.dirname(parent_dir)\n",
    "parent_parent_parent_dir = os.path.dirname(parent_parent_dir)\n",
    "parent_parent_parent_parent_dir = os.path.dirname(parent_parent_parent_dir)\n",
    "\n",
    "# Add all possible parent paths to ensure the module is found\n",
    "for path in [current_dir, parent_dir, parent_parent_dir, parent_parent_parent_dir, parent_parent_parent_parent_dir]:\n",
    "    if path not in sys.path:\n",
    "        sys.path.insert(0, path)\n",
    "\n",
    "# Print current path to help with debugging\n",
    "print(f\"Current directory: {os.getcwd()}\")\n",
    "print(f\"Python path: {sys.path}\")"
   ]
  },
  {
   "cell_type": "code",
   "execution_count": 2,
   "metadata": {},
   "outputs": [],
   "source": [
    "import model_checker\n",
    "from model_checker.theory_lib import default\n",
    "from model_checker.theory_lib.default.examples import constitutive"
   ]
  },
  {
   "cell_type": "markdown",
   "metadata": {},
   "source": [
    "## Setup\n",
    "\n",
    "First, let's set up the basic components we need for model checking."
   ]
  },
  {
   "cell_type": "code",
   "metadata": {},
   "outputs": [],
   "source": "# Import operators\noperators = default.default_operators\n\n# Get default settings\ndefault_settings = default.Semantics.DEFAULT_EXAMPLE_SETTINGS\n\n# Define general settings for display\ngeneral_settings = {\n    \"print_constraints\": False,\n    \"print_impossible\": True,\n    \"print_z3\": False,\n    \"save_output\": False,\n    \"maximize\": False,\n}\n\n# Update default settings with general settings\ndefault_settings.update(general_settings)"
  },
  {
   "cell_type": "markdown",
   "metadata": {},
   "source": [
    "## Helper Function\n",
    "\n",
    "Let's create a helper function to run our examples."
   ]
  },
  {
   "cell_type": "code",
   "metadata": {},
   "outputs": [],
   "source": "def run_example(example, name):\n    \"\"\"Run a specific example and display the results.\n    \n    Args:\n        example: The example to run (list containing premises, conclusions, settings)\n        name: The name of the example\n    \"\"\"\n    premises, conclusions, settings = example\n    \n    # Create syntax object\n    syntax = model_checker.syntactic.Syntax(premises, conclusions, operators)\n    \n    # Update default settings with example-specific settings and general settings\n    example_settings = default_settings.copy()\n    example_settings.update(settings)\n    \n    # Ensure print_impossible is set\n    if 'print_impossible' not in example_settings:\n        example_settings['print_impossible'] = True\n    \n    # Create semantics\n    semantics = default.Semantics(example_settings)\n    proposition_class = default.Proposition\n    \n    # Create model constraints\n    model_constraints = model_checker.model.ModelConstraints(example_settings, syntax, semantics, proposition_class)\n    \n    # Create model structure\n    model_structure = default.ModelStructure(model_constraints, example_settings)\n    \n    # Interpret sentences before printing\n    sentences = model_structure.premises + model_structure.conclusions\n    model_structure.interpret(sentences)\n    \n    # Print results\n    model_structure.print_all(example_settings, name, \"Default Semantics\")"
  },
  {
   "cell_type": "markdown",
   "metadata": {},
   "source": [
    "## Countermodels\n",
    "\n",
    "Let's examine some key countermodels from constitutive logic."
   ]
  },
  {
   "cell_type": "markdown",
   "metadata": {},
   "source": [
    "### CL_CM_1: Equivalence of Tautologies"
   ]
  },
  {
   "cell_type": "code",
   "execution_count": 5,
   "metadata": {},
   "outputs": [
    {
     "name": "stdout",
     "output_type": "stream",
     "text": [
      "========================================\n",
      "\n",
      "EXAMPLE Equivalence of Tautologies: there is a countermodel.\n",
      "\n",
      "Atomic States: 4\n",
      "\n",
      "Semantic Theory: Default Semantics\n",
      "\n",
      "Premise:\n",
      "\n",
      "Conclusion:\n",
      "1. ((A \\vee \\neg A) \\equiv (B \\vee \\neg B))\n",
      "\n",
      "Z3 Run Time: 0.0101 seconds\n",
      "\n",
      "========================================\n",
      "State Space:\n",
      "  \u001b[37m#b0000 = \u001b[33m□\u001b[0m\n",
      "  \u001b[37m#b0001 = \u001b[36ma\u001b[0m\n",
      "  \u001b[37m#b0010 = \u001b[36mb\u001b[0m\n"
     ]
    },
    {
     "ename": "KeyError",
     "evalue": "'print_impossible'",
     "output_type": "error",
     "traceback": [
      "\u001b[0;31m---------------------------------------------------------------------------\u001b[0m",
      "\u001b[0;31mKeyError\u001b[0m                                  Traceback (most recent call last)",
      "Cell \u001b[0;32mIn[5], line 1\u001b[0m\n\u001b[0;32m----> 1\u001b[0m \u001b[43mrun_example\u001b[49m\u001b[43m(\u001b[49m\u001b[43mconstitutive\u001b[49m\u001b[38;5;241;43m.\u001b[39;49m\u001b[43mCL_CM_1_example\u001b[49m\u001b[43m,\u001b[49m\u001b[43m \u001b[49m\u001b[38;5;124;43m\"\u001b[39;49m\u001b[38;5;124;43mEquivalence of Tautologies\u001b[39;49m\u001b[38;5;124;43m\"\u001b[39;49m\u001b[43m)\u001b[49m\n",
      "Cell \u001b[0;32mIn[4], line 32\u001b[0m, in \u001b[0;36mrun_example\u001b[0;34m(example, name)\u001b[0m\n\u001b[1;32m     29\u001b[0m model_structure\u001b[38;5;241m.\u001b[39minterpret(sentences)\n\u001b[1;32m     31\u001b[0m \u001b[38;5;66;03m# Print results\u001b[39;00m\n\u001b[0;32m---> 32\u001b[0m \u001b[43mmodel_structure\u001b[49m\u001b[38;5;241;43m.\u001b[39;49m\u001b[43mprint_all\u001b[49m\u001b[43m(\u001b[49m\u001b[43mexample_settings\u001b[49m\u001b[43m,\u001b[49m\u001b[43m \u001b[49m\u001b[43mname\u001b[49m\u001b[43m,\u001b[49m\u001b[43m \u001b[49m\u001b[38;5;124;43m\"\u001b[39;49m\u001b[38;5;124;43mDefault Semantics\u001b[39;49m\u001b[38;5;124;43m\"\u001b[39;49m\u001b[43m)\u001b[49m\n",
      "File \u001b[0;32m~/Documents/Philosophy/Projects/ModelChecker/Code/src/model_checker/theory_lib/default/semantic.py:945\u001b[0m, in \u001b[0;36mModelStructure.print_all\u001b[0;34m(self, default_settings, example_name, theory_name, output)\u001b[0m\n\u001b[1;32m    943\u001b[0m \u001b[38;5;28mself\u001b[39m\u001b[38;5;241m.\u001b[39mprint_info(model_status, \u001b[38;5;28mself\u001b[39m\u001b[38;5;241m.\u001b[39msettings, example_name, theory_name, output)\n\u001b[1;32m    944\u001b[0m \u001b[38;5;28;01mif\u001b[39;00m model_status:\n\u001b[0;32m--> 945\u001b[0m     \u001b[38;5;28;43mself\u001b[39;49m\u001b[38;5;241;43m.\u001b[39;49m\u001b[43mprint_states\u001b[49m\u001b[43m(\u001b[49m\u001b[43moutput\u001b[49m\u001b[43m)\u001b[49m\n\u001b[1;32m    946\u001b[0m     \u001b[38;5;28mself\u001b[39m\u001b[38;5;241m.\u001b[39mprint_evaluation(output)\n\u001b[1;32m    947\u001b[0m     \u001b[38;5;28mself\u001b[39m\u001b[38;5;241m.\u001b[39mprint_input_sentences(output)\n",
      "File \u001b[0;32m~/Documents/Philosophy/Projects/ModelChecker/Code/src/model_checker/theory_lib/default/semantic.py:924\u001b[0m, in \u001b[0;36mModelStructure.print_states\u001b[0;34m(self, output)\u001b[0m\n\u001b[1;32m    922\u001b[0m \u001b[38;5;28;01melif\u001b[39;00m bit \u001b[38;5;129;01min\u001b[39;00m \u001b[38;5;28mself\u001b[39m\u001b[38;5;241m.\u001b[39mz3_possible_states:\n\u001b[1;32m    923\u001b[0m     format_state(bin_rep, state, \u001b[38;5;28mself\u001b[39m\u001b[38;5;241m.\u001b[39mCOLORS[\u001b[38;5;124m\"\u001b[39m\u001b[38;5;124mpossible\u001b[39m\u001b[38;5;124m\"\u001b[39m])\n\u001b[0;32m--> 924\u001b[0m \u001b[38;5;28;01melif\u001b[39;00m \u001b[38;5;28;43mself\u001b[39;49m\u001b[38;5;241;43m.\u001b[39;49m\u001b[43msettings\u001b[49m\u001b[43m[\u001b[49m\u001b[38;5;124;43m'\u001b[39;49m\u001b[38;5;124;43mprint_impossible\u001b[39;49m\u001b[38;5;124;43m'\u001b[39;49m\u001b[43m]\u001b[49m:\n\u001b[1;32m    925\u001b[0m     format_state(bin_rep, state, \u001b[38;5;28mself\u001b[39m\u001b[38;5;241m.\u001b[39mCOLORS[\u001b[38;5;124m\"\u001b[39m\u001b[38;5;124mimpossible\u001b[39m\u001b[38;5;124m\"\u001b[39m], \u001b[38;5;124m\"\u001b[39m\u001b[38;5;124mimpossible\u001b[39m\u001b[38;5;124m\"\u001b[39m)\n",
      "\u001b[0;31mKeyError\u001b[0m: 'print_impossible'"
     ]
    }
   ],
   "source": [
    "run_example(constitutive.CL_CM_1_example, \"Equivalence of Tautologies\")"
   ]
  },
  {
   "cell_type": "markdown",
   "metadata": {},
   "source": [
    "### CL_CM_2: Equivalence of Contradictions"
   ]
  },
  {
   "cell_type": "code",
   "execution_count": null,
   "metadata": {},
   "outputs": [],
   "source": [
    "run_example(constitutive.CL_CM_2_example, \"Equivalence of Contradictions\")"
   ]
  },
  {
   "cell_type": "markdown",
   "metadata": {},
   "source": [
    "### CL_CM_3: Ground Conjunction Supplementation"
   ]
  },
  {
   "cell_type": "code",
   "execution_count": null,
   "metadata": {},
   "outputs": [],
   "source": [
    "run_example(constitutive.CL_CM_3_example, \"Ground Conjunction Supplementation\")"
   ]
  },
  {
   "cell_type": "markdown",
   "metadata": {},
   "source": [
    "### CL_CM_4: Essence Disjunction Supplementation"
   ]
  },
  {
   "cell_type": "code",
   "execution_count": null,
   "metadata": {},
   "outputs": [],
   "source": [
    "run_example(constitutive.CL_CM_4_example, \"Essence Disjunction Supplementation\")"
   ]
  },
  {
   "cell_type": "markdown",
   "metadata": {},
   "source": [
    "### CL_CM_5: Identity Absorption: Disjunction over Conjunction"
   ]
  },
  {
   "cell_type": "code",
   "execution_count": null,
   "metadata": {},
   "outputs": [],
   "source": [
    "run_example(constitutive.CL_CM_5_example, \"Identity Absorption: Disjunction over Conjunction\")"
   ]
  },
  {
   "cell_type": "markdown",
   "metadata": {},
   "source": [
    "### CL_CM_6: Identity Absorption: Conjunction over Disjunction"
   ]
  },
  {
   "cell_type": "code",
   "execution_count": null,
   "metadata": {},
   "outputs": [],
   "source": [
    "run_example(constitutive.CL_CM_6_example, \"Identity Absorption: Conjunction over Disjunction\")"
   ]
  },
  {
   "cell_type": "markdown",
   "metadata": {},
   "source": [
    "### CL_CM_7: Identity Distribution: Conjunction over Disjunction"
   ]
  },
  {
   "cell_type": "code",
   "execution_count": null,
   "metadata": {},
   "outputs": [],
   "source": [
    "run_example(constitutive.CL_CM_7_example, \"Identity Distribution: Conjunction over Disjunction\")"
   ]
  },
  {
   "cell_type": "markdown",
   "metadata": {},
   "source": [
    "### CL_CM_8: Identity Distribution: Disjunction over Conjunction"
   ]
  },
  {
   "cell_type": "code",
   "execution_count": null,
   "metadata": {},
   "outputs": [],
   "source": [
    "run_example(constitutive.CL_CM_8_example, \"Identity Distribution: Disjunction over Conjunction\")"
   ]
  },
  {
   "cell_type": "markdown",
   "metadata": {},
   "source": [
    "### CL_CM_9: Strict Implication to Ground"
   ]
  },
  {
   "cell_type": "code",
   "execution_count": null,
   "metadata": {},
   "outputs": [],
   "source": [
    "run_example(constitutive.CL_CM_9_example, \"Strict Implication to Ground\")"
   ]
  },
  {
   "cell_type": "markdown",
   "metadata": {},
   "source": [
    "### CL_CM_10: Strict Implication to Essence"
   ]
  },
  {
   "cell_type": "code",
   "execution_count": null,
   "metadata": {},
   "outputs": [],
   "source": [
    "run_example(constitutive.CL_CM_10_example, \"Strict Implication to Essence\")"
   ]
  },
  {
   "cell_type": "markdown",
   "metadata": {},
   "source": [
    "### CL_CM_11: Essence Distribution"
   ]
  },
  {
   "cell_type": "code",
   "execution_count": null,
   "metadata": {},
   "outputs": [],
   "source": [
    "run_example(constitutive.CL_CM_11_example, \"Essence Distribution\")"
   ]
  },
  {
   "cell_type": "markdown",
   "metadata": {},
   "source": [
    "### CL_CM_12: Ground Distribution"
   ]
  },
  {
   "cell_type": "code",
   "execution_count": null,
   "metadata": {},
   "outputs": [],
   "source": [
    "run_example(constitutive.CL_CM_12_example, \"Ground Distribution\")"
   ]
  },
  {
   "cell_type": "markdown",
   "metadata": {},
   "source": [
    "### CL_CM_13: Shannon Expansion"
   ]
  },
  {
   "cell_type": "code",
   "execution_count": null,
   "metadata": {},
   "outputs": [],
   "source": [
    "run_example(constitutive.CL_CM_13_example, \"Shannon Expansion\")"
   ]
  },
  {
   "cell_type": "markdown",
   "metadata": {},
   "source": [
    "### CL_CM_14: Dual Shannon Expansion"
   ]
  },
  {
   "cell_type": "code",
   "execution_count": null,
   "metadata": {},
   "outputs": [],
   "source": [
    "run_example(constitutive.CL_CM_14_example, \"Dual Shannon Expansion\")"
   ]
  },
  {
   "cell_type": "markdown",
   "metadata": {},
   "source": [
    "## Theorems\n",
    "\n",
    "Now let's examine some key theorems from constitutive logic."
   ]
  },
  {
   "cell_type": "markdown",
   "metadata": {},
   "source": [
    "### CL_TH_1: Ground to Essence"
   ]
  },
  {
   "cell_type": "code",
   "execution_count": null,
   "metadata": {},
   "outputs": [],
   "source": [
    "run_example(constitutive.CL_TH_1_example, \"Ground to Essence\")"
   ]
  },
  {
   "cell_type": "markdown",
   "metadata": {},
   "source": [
    "### CL_TH_2: Essence to Ground"
   ]
  },
  {
   "cell_type": "code",
   "execution_count": null,
   "metadata": {},
   "outputs": [],
   "source": [
    "run_example(constitutive.CL_TH_2_example, \"Essence to Ground\")"
   ]
  },
  {
   "cell_type": "markdown",
   "metadata": {},
   "source": [
    "### CL_TH_3: Essence to Identity"
   ]
  },
  {
   "cell_type": "code",
   "execution_count": null,
   "metadata": {},
   "outputs": [],
   "source": [
    "run_example(constitutive.CL_TH_3_example, \"Essence to Identity\")"
   ]
  },
  {
   "cell_type": "markdown",
   "metadata": {},
   "source": [
    "### CL_TH_4: Identity to Essence"
   ]
  },
  {
   "cell_type": "code",
   "execution_count": null,
   "metadata": {},
   "outputs": [],
   "source": [
    "run_example(constitutive.CL_TH_4_example, \"Identity to Essence\")"
   ]
  },
  {
   "cell_type": "markdown",
   "metadata": {},
   "source": [
    "### CL_TH_5: Ground to Identity"
   ]
  },
  {
   "cell_type": "code",
   "execution_count": null,
   "metadata": {},
   "outputs": [],
   "source": [
    "run_example(constitutive.CL_TH_5_example, \"Ground to Identity\")"
   ]
  },
  {
   "cell_type": "markdown",
   "metadata": {},
   "source": [
    "### CL_TH_6: Identity to Ground"
   ]
  },
  {
   "cell_type": "code",
   "execution_count": null,
   "metadata": {},
   "outputs": [],
   "source": [
    "run_example(constitutive.CL_TH_6_example, \"Identity to Ground\")"
   ]
  },
  {
   "cell_type": "markdown",
   "metadata": {},
   "source": [
    "### CL_TH_7: Negation Transparency"
   ]
  },
  {
   "cell_type": "code",
   "execution_count": null,
   "metadata": {},
   "outputs": [],
   "source": [
    "run_example(constitutive.CL_TH_7_example, \"Negation Transparency\")"
   ]
  },
  {
   "cell_type": "markdown",
   "metadata": {},
   "source": [
    "### CL_TH_8: Reverse Negation Transparency"
   ]
  },
  {
   "cell_type": "code",
   "execution_count": null,
   "metadata": {},
   "outputs": [],
   "source": [
    "run_example(constitutive.CL_TH_8_example, \"Reverse Negation Transparency\")"
   ]
  },
  {
   "cell_type": "markdown",
   "metadata": {},
   "source": [
    "### CL_TH_9: Absorption Identity"
   ]
  },
  {
   "cell_type": "code",
   "execution_count": null,
   "metadata": {},
   "outputs": [],
   "source": [
    "run_example(constitutive.CL_TH_9_example, \"Absorption Identity\")"
   ]
  },
  {
   "cell_type": "markdown",
   "metadata": {},
   "source": [
    "### CL_TH_10: Absorption Reduction: Conjunction over Disjunction"
   ]
  },
  {
   "cell_type": "code",
   "execution_count": null,
   "metadata": {},
   "outputs": [],
   "source": [
    "run_example(constitutive.CL_TH_10_example, \"Absorption Reduction: Conjunction over Disjunction\")"
   ]
  },
  {
   "cell_type": "markdown",
   "metadata": {},
   "source": [
    "### CL_TH_11: Absorption Reduction: Disjunction over Conjunction"
   ]
  },
  {
   "cell_type": "code",
   "execution_count": null,
   "metadata": {},
   "outputs": [],
   "source": [
    "run_example(constitutive.CL_TH_11_example, \"Absorption Reduction: Disjunction over Conjunction\")"
   ]
  },
  {
   "cell_type": "markdown",
   "metadata": {},
   "source": [
    "### CL_TH_12: Distribution Reduction: Disjunction over Conjunction"
   ]
  },
  {
   "cell_type": "code",
   "execution_count": null,
   "metadata": {},
   "outputs": [],
   "source": [
    "run_example(constitutive.CL_TH_12_example, \"Distribution Reduction: Disjunction over Conjunction\")"
   ]
  },
  {
   "cell_type": "markdown",
   "metadata": {},
   "source": [
    "### CL_TH_13: Distribution Reduction: Conjunction over Disjunction"
   ]
  },
  {
   "cell_type": "code",
   "execution_count": null,
   "metadata": {},
   "outputs": [],
   "source": [
    "run_example(constitutive.CL_TH_13_example, \"Distribution Reduction: Conjunction over Disjunction\")"
   ]
  },
  {
   "cell_type": "markdown",
   "metadata": {},
   "source": [
    "### CL_TH_14: Ground to Strict Implication"
   ]
  },
  {
   "cell_type": "code",
   "execution_count": null,
   "metadata": {},
   "outputs": [],
   "source": [
    "run_example(constitutive.CL_TH_14_example, \"Ground to Strict Implication\")"
   ]
  },
  {
   "cell_type": "markdown",
   "metadata": {},
   "source": [
    "### CL_TH_15: Essence to Converse Strict Implication"
   ]
  },
  {
   "cell_type": "code",
   "execution_count": null,
   "metadata": {},
   "outputs": [],
   "source": [
    "run_example(constitutive.CL_TH_15_example, \"Essence to Converse Strict Implication\")"
   ]
  },
  {
   "cell_type": "markdown",
   "metadata": {},
   "source": [
    "### CL_TH_16: Grounding Anti-Symmetry"
   ]
  },
  {
   "cell_type": "code",
   "execution_count": null,
   "metadata": {},
   "outputs": [],
   "source": [
    "run_example(constitutive.CL_TH_16_example, \"Grounding Anti-Symmetry\")"
   ]
  },
  {
   "cell_type": "markdown",
   "metadata": {},
   "source": [
    "### CL_TH_17: Essence Anti-Symmetry"
   ]
  },
  {
   "cell_type": "code",
   "execution_count": null,
   "metadata": {},
   "outputs": [],
   "source": [
    "run_example(constitutive.CL_TH_17_example, \"Essence Anti-Symmetry\")"
   ]
  },
  {
   "cell_type": "markdown",
   "metadata": {},
   "source": [
    "### CL_TH_18: Grounding Transitivity"
   ]
  },
  {
   "cell_type": "code",
   "execution_count": null,
   "metadata": {},
   "outputs": [],
   "source": [
    "run_example(constitutive.CL_TH_18_example, \"Grounding Transitivity\")"
   ]
  },
  {
   "cell_type": "markdown",
   "metadata": {},
   "source": [
    "### CL_TH_19: Essence Transitivity"
   ]
  },
  {
   "cell_type": "code",
   "execution_count": null,
   "metadata": {},
   "outputs": [],
   "source": [
    "run_example(constitutive.CL_TH_19_example, \"Essence Transitivity\")"
   ]
  },
  {
   "cell_type": "markdown",
   "metadata": {},
   "source": [
    "## Summary\n",
    "\n",
    "This notebook demonstrates the key countermodels and theorems in constitutive logic using the default theory of the ModelChecker framework. The examples showcase various properties of ground (\\leq), essence (\\sqsubseteq), and identity (\\equiv) operators, including their relationships with strict implication."
   ]
  }
 ],
 "metadata": {
  "kernelspec": {
   "display_name": "Python 3 (ipykernel)",
   "language": "python",
   "name": "python3"
  },
  "language_info": {
   "codemirror_mode": {
    "name": "ipython",
    "version": 3
   },
   "file_extension": ".py",
   "mimetype": "text/x-python",
   "name": "python",
   "nbconvert_exporter": "python",
   "pygments_lexer": "ipython3",
   "version": "3.12.8"
  }
 },
 "nbformat": 4,
 "nbformat_minor": 4
}