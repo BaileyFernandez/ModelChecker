{
 "cells": [
  {
   "cell_type": "markdown",
   "metadata": {},
   "source": [
    "# ModelChecker Jupyter Integration Demo\n",
    "\n",
    "This notebook demonstrates how to use the interactive features of ModelChecker in Jupyter notebooks."
   ]
  },
  {
   "cell_type": "markdown",
   "metadata": {},
   "source": [
    "## 1. Environment Setup\n",
    "\n",
    "First, we'll set up the environment to ensure the model_checker package is properly available:"
   ]
  },
  {
   "cell_type": "code",
   "execution_count": 1,
   "metadata": {},
   "outputs": [
    {
     "name": "stdout",
     "output_type": "stream",
     "text": [
      "Imported model_checker from /home/benjamin/Documents/Philosophy/Projects/ModelChecker/Code/src/model_checker/__init__.py\n",
      "ModelChecker version: 0.8.26\n",
      "ModelChecker location: /home/benjamin/Documents/Philosophy/Projects/ModelChecker/Code/src/model_checker/__init__.py\n",
      "Jupyter module available: True\n"
     ]
    }
   ],
   "source": [
    "# Set up the environment for the model_checker package\n",
    "import sys\n",
    "import os\n",
    "import importlib\n",
    "\n",
    "# Helper function to setup imports\n",
    "def setup_model_checker_env():\n",
    "    # Try to find the ModelChecker project root\n",
    "    possible_roots = [\n",
    "        # If notebook is in the repo structure\n",
    "        os.path.abspath(os.path.join(os.getcwd(), \"../../../../../\")),\n",
    "        os.path.abspath(os.path.join(os.getcwd(), \"../../../../\")),\n",
    "        os.path.abspath(os.path.join(os.getcwd(), \"../../../\")),\n",
    "        os.path.abspath(os.path.join(os.getcwd(), \"../../\")),\n",
    "        # Common installation paths\n",
    "        os.path.expanduser(\"~/Documents/Philosophy/Projects/ModelChecker/Code\"),\n",
    "        os.path.expanduser(\"~/ModelChecker/Code\"),\n",
    "    ]\n",
    "    \n",
    "    project_root = None\n",
    "    for path in possible_roots:\n",
    "        if os.path.isdir(path) and os.path.isdir(os.path.join(path, \"src\", \"model_checker\")):\n",
    "            project_root = path\n",
    "            break\n",
    "    \n",
    "    if project_root is None:\n",
    "        print(\"Could not find ModelChecker project root. Please specify the path manually.\")\n",
    "        return False\n",
    "    \n",
    "    # Add project root and src directory to path\n",
    "    paths_to_add = [project_root, os.path.join(project_root, \"src\")]\n",
    "    for path in paths_to_add:\n",
    "        if path not in sys.path:\n",
    "            sys.path.insert(0, path)\n",
    "    \n",
    "    # Try importing model_checker\n",
    "    try:\n",
    "        # If already imported, reload to ensure we're using the correct version\n",
    "        if \"model_checker\" in sys.modules:\n",
    "            importlib.reload(sys.modules[\"model_checker\"])\n",
    "        else:\n",
    "            import model_checker\n",
    "        \n",
    "        print(f\"Imported model_checker from {sys.modules['model_checker'].__file__}\")\n",
    "        \n",
    "        # Make sure jupyter module is properly imported\n",
    "        if \"model_checker.jupyter\" in sys.modules:\n",
    "            importlib.reload(sys.modules[\"model_checker.jupyter\"])\n",
    "        \n",
    "        return True\n",
    "    except ImportError as e:\n",
    "        print(f\"Error importing model_checker: {e}\")\n",
    "        return False\n",
    "\n",
    "# Run the setup\n",
    "setup_success = setup_model_checker_env()\n",
    "\n",
    "# Diagnostic information\n",
    "if setup_success:\n",
    "    import model_checker\n",
    "    print(f\"ModelChecker version: {model_checker.__version__}\")\n",
    "    print(f\"ModelChecker location: {model_checker.__file__}\")\n",
    "    print(f\"Jupyter module available: {'jupyter' in dir(model_checker)}\")\n",
    "else:\n",
    "    print(\"Failed to set up ModelChecker environment\")"
   ]
  },
  {
   "cell_type": "markdown",
   "metadata": {},
   "source": [
    "## 2. Basic Import and Setup\n",
    "\n",
    "Now we'll import the jupyter module from ModelChecker:"
   ]
  },
  {
   "cell_type": "code",
   "execution_count": 2,
   "metadata": {},
   "outputs": [],
   "source": [
    "from model_checker.jupyter import InteractiveModelExplorer, check_formula"
   ]
  },
  {
   "cell_type": "markdown",
   "metadata": {},
   "source": [
    "# Check a simple propositional formula\n",
    "check_formula(r\"(p \\rightarrow (q \\rightarrow p))\")"
   ]
  },
  {
   "cell_type": "code",
   "execution_count": 3,
   "metadata": {},
   "outputs": [
    {
     "name": "stdout",
     "output_type": "stream",
     "text": [
      "========================================\n",
      "\n",
      "EXAMPLE formula_check: there is no countermodel.\n",
      "\n",
      "Atomic States: 3\n",
      "\n",
      "Semantic Theory: default\n",
      "\n",
      "Premise:\n",
      "\n",
      "Conclusion:\n",
      "1. (\\Box (p \\rightarrow q) \\rightarrow (\\Box p \\rightarrow \\Box q))\n",
      "\n",
      "Z3 Run Time: 0.0049 seconds\n",
      "\n",
      "========================================\n",
      "\n"
     ]
    },
    {
     "data": {
      "text/html": [
       "<h3>Formula: (\\Box (p \\rightarrow q) \\rightarrow (\\Box p \\rightarrow \\Box q))</h3><p><b>Valid:</b> <span style='color:red'>False</span></p><pre style='white-space: pre-wrap;'></pre>"
      ],
      "text/plain": [
       "<IPython.core.display.HTML object>"
      ]
     },
     "execution_count": 3,
     "metadata": {},
     "output_type": "execute_result"
    }
   ],
   "source": [
    "# Check a modal formula\n",
    "check_formula(r\"(\\Box (p \\rightarrow q) \\rightarrow (\\Box p \\rightarrow \\Box q))\")"
   ]
  },
  {
   "cell_type": "code",
   "execution_count": 4,
   "metadata": {},
   "outputs": [
    {
     "name": "stdout",
     "output_type": "stream",
     "text": [
      "========================================\n",
      "\n",
      "EXAMPLE formula_check: there is no countermodel.\n",
      "\n",
      "Atomic States: 3\n",
      "\n",
      "Semantic Theory: default\n",
      "\n",
      "Premises:\n",
      "1. p\n",
      "2. (p \\rightarrow q)\n",
      "\n",
      "Conclusion:\n",
      "3. q\n",
      "\n",
      "Z3 Run Time: 0.0039 seconds\n",
      "\n",
      "========================================\n",
      "\n"
     ]
    },
    {
     "data": {
      "text/html": [
       "<h3>Formula: q</h3><p><b>Valid:</b> <span style='color:red'>False</span></p><pre style='white-space: pre-wrap;'></pre>"
      ],
      "text/plain": [
       "<IPython.core.display.HTML object>"
      ]
     },
     "execution_count": 4,
     "metadata": {},
     "output_type": "execute_result"
    }
   ],
   "source": [
    "# Check validity with premises\n",
    "# Note: When using raw strings and ModelChecker syntax, we need to:\n",
    "# 1. Use parentheses around binary operators like \\rightarrow\n",
    "# 2. Use raw strings (r prefix) to avoid Python escape issues with backslashes\n",
    "check_formula(\"q\", premises=[\"p\", r\"(p \\rightarrow q)\"])"
   ]
  },
  {
   "cell_type": "code",
   "execution_count": 5,
   "metadata": {},
   "outputs": [
    {
     "name": "stdout",
     "output_type": "stream",
     "text": [
      "========================================\n",
      "\n",
      "EXAMPLE formula_check: there is no countermodel.\n",
      "\n",
      "Atomic States: 3\n",
      "\n",
      "Semantic Theory: default\n",
      "\n",
      "Premises:\n",
      "1. p\n",
      "2. (p \\rightarrow q)\n",
      "\n",
      "Conclusion:\n",
      "3. q\n",
      "\n",
      "Z3 Run Time: 0.0054 seconds\n",
      "\n",
      "========================================\n",
      "\n"
     ]
    },
    {
     "data": {
      "text/html": [
       "<h3>Formula: q</h3><p><b>Valid:</b> <span style='color:red'>False</span></p><pre style='white-space: pre-wrap;'></pre>"
      ],
      "text/plain": [
       "<IPython.core.display.HTML object>"
      ]
     },
     "execution_count": 5,
     "metadata": {},
     "output_type": "execute_result"
    }
   ],
   "source": [
    "# Check validity with premises\n",
    "check_formula(\"q\", premises=[\"p\", r\"p \\rightarrow q\"])"
   ]
  },
  {
   "cell_type": "markdown",
   "metadata": {},
   "source": [
    "## 4. Interactive Model Explorer\n",
    "\n",
    "For more interactive exploration, we can use the `InteractiveModelExplorer` class:"
   ]
  },
  {
   "cell_type": "code",
   "execution_count": 6,
   "metadata": {},
   "outputs": [
    {
     "data": {
      "application/vnd.jupyter.widget-view+json": {
       "model_id": "7ee968b7aa7544c59f43e5ffe6e09856",
       "version_major": 2,
       "version_minor": 0
      },
      "text/plain": [
       "HBox(children=(VBox(children=(Text(value='p → q', description='Formula:', style=TextStyle(description_width='i…"
      ]
     },
     "metadata": {},
     "output_type": "display_data"
    }
   ],
   "source": [
    "# Create an explorer with the default theory\n",
    "explorer = InteractiveModelExplorer()\n",
    "\n",
    "# Display the interactive UI\n",
    "explorer.display()"
   ]
  },
  {
   "cell_type": "markdown",
   "metadata": {},
   "source": [
    "# Check in default theory\n",
    "check_formula(r\"(\\Box p \\rightarrow p)\", theory_name=\"default\")"
   ]
  },
  {
   "cell_type": "code",
   "execution_count": 7,
   "metadata": {},
   "outputs": [
    {
     "ename": "ValueError",
     "evalue": "Could not load semantic theories for theory 'exclusion': cannot import name 'ExclusionSemantics' from 'semantic' (/home/benjamin/Documents/Philosophy/Projects/ModelChecker/Code/src/model_checker/theory_lib/default/semantic.py)",
     "output_type": "error",
     "traceback": [
      "\u001b[0;31m---------------------------------------------------------------------------\u001b[0m",
      "\u001b[0;31mImportError\u001b[0m                               Traceback (most recent call last)",
      "File \u001b[0;32m~/Documents/Philosophy/Projects/ModelChecker/Code/src/model_checker/theory_lib/__init__.py:147\u001b[0m, in \u001b[0;36mget_semantic_theories\u001b[0;34m(theory_name)\u001b[0m\n\u001b[1;32m    146\u001b[0m \u001b[38;5;28;01mtry\u001b[39;00m:\n\u001b[0;32m--> 147\u001b[0m     module \u001b[38;5;241m=\u001b[39m \u001b[43mimportlib\u001b[49m\u001b[38;5;241;43m.\u001b[39;49m\u001b[43mimport_module\u001b[49m\u001b[43m(\u001b[49m\u001b[38;5;124;43mf\u001b[39;49m\u001b[38;5;124;43m\"\u001b[39;49m\u001b[38;5;124;43m.\u001b[39;49m\u001b[38;5;132;43;01m{\u001b[39;49;00m\u001b[43mtheory_name\u001b[49m\u001b[38;5;132;43;01m}\u001b[39;49;00m\u001b[38;5;124;43m.examples\u001b[39;49m\u001b[38;5;124;43m\"\u001b[39;49m\u001b[43m,\u001b[49m\u001b[43m \u001b[49m\u001b[43mpackage\u001b[49m\u001b[38;5;241;43m=\u001b[39;49m\u001b[38;5;18;43m__name__\u001b[39;49m\u001b[43m)\u001b[49m\n\u001b[1;32m    148\u001b[0m     \u001b[38;5;28;01mreturn\u001b[39;00m module\u001b[38;5;241m.\u001b[39msemantic_theories\n",
      "File \u001b[0;32m/nix/store/lhpwdis5hkyljz1d200bj1s6g51ljq9k-python3-3.12.8/lib/python3.12/importlib/__init__.py:90\u001b[0m, in \u001b[0;36mimport_module\u001b[0;34m(name, package)\u001b[0m\n\u001b[1;32m     89\u001b[0m         level \u001b[38;5;241m+\u001b[39m\u001b[38;5;241m=\u001b[39m \u001b[38;5;241m1\u001b[39m\n\u001b[0;32m---> 90\u001b[0m \u001b[38;5;28;01mreturn\u001b[39;00m \u001b[43m_bootstrap\u001b[49m\u001b[38;5;241;43m.\u001b[39;49m\u001b[43m_gcd_import\u001b[49m\u001b[43m(\u001b[49m\u001b[43mname\u001b[49m\u001b[43m[\u001b[49m\u001b[43mlevel\u001b[49m\u001b[43m:\u001b[49m\u001b[43m]\u001b[49m\u001b[43m,\u001b[49m\u001b[43m \u001b[49m\u001b[43mpackage\u001b[49m\u001b[43m,\u001b[49m\u001b[43m \u001b[49m\u001b[43mlevel\u001b[49m\u001b[43m)\u001b[49m\n",
      "File \u001b[0;32m<frozen importlib._bootstrap>:1387\u001b[0m, in \u001b[0;36m_gcd_import\u001b[0;34m(name, package, level)\u001b[0m\n",
      "File \u001b[0;32m<frozen importlib._bootstrap>:1360\u001b[0m, in \u001b[0;36m_find_and_load\u001b[0;34m(name, import_)\u001b[0m\n",
      "File \u001b[0;32m<frozen importlib._bootstrap>:1331\u001b[0m, in \u001b[0;36m_find_and_load_unlocked\u001b[0;34m(name, import_)\u001b[0m\n",
      "File \u001b[0;32m<frozen importlib._bootstrap>:935\u001b[0m, in \u001b[0;36m_load_unlocked\u001b[0;34m(spec)\u001b[0m\n",
      "File \u001b[0;32m<frozen importlib._bootstrap_external>:999\u001b[0m, in \u001b[0;36mexec_module\u001b[0;34m(self, module)\u001b[0m\n",
      "File \u001b[0;32m<frozen importlib._bootstrap>:488\u001b[0m, in \u001b[0;36m_call_with_frames_removed\u001b[0;34m(f, *args, **kwds)\u001b[0m\n",
      "File \u001b[0;32m~/Documents/Philosophy/Projects/ModelChecker/Code/src/model_checker/theory_lib/exclusion/examples.py:89\u001b[0m\n\u001b[1;32m     88\u001b[0m \u001b[38;5;66;03m# Exclusion\u001b[39;00m\n\u001b[0;32m---> 89\u001b[0m \u001b[38;5;28;01mfrom\u001b[39;00m \u001b[38;5;21;01msemantic\u001b[39;00m \u001b[38;5;28;01mimport\u001b[39;00m (\n\u001b[1;32m     90\u001b[0m     ExclusionSemantics,\n\u001b[1;32m     91\u001b[0m     UnilateralProposition,\n\u001b[1;32m     92\u001b[0m     ExclusionStructure,\n\u001b[1;32m     93\u001b[0m )\n\u001b[1;32m     94\u001b[0m \u001b[38;5;28;01mfrom\u001b[39;00m \u001b[38;5;21;01moperators\u001b[39;00m \u001b[38;5;28;01mimport\u001b[39;00m exclusion_operators\n",
      "\u001b[0;31mImportError\u001b[0m: cannot import name 'ExclusionSemantics' from 'semantic' (/home/benjamin/Documents/Philosophy/Projects/ModelChecker/Code/src/model_checker/theory_lib/default/semantic.py)",
      "\nDuring handling of the above exception, another exception occurred:\n",
      "\u001b[0;31mValueError\u001b[0m                                Traceback (most recent call last)",
      "Cell \u001b[0;32mIn[7], line 2\u001b[0m\n\u001b[1;32m      1\u001b[0m \u001b[38;5;66;03m# Check in exclusion theory\u001b[39;00m\n\u001b[0;32m----> 2\u001b[0m \u001b[43mcheck_formula\u001b[49m\u001b[43m(\u001b[49m\u001b[38;5;124;43mr\u001b[39;49m\u001b[38;5;124;43m\"\u001b[39;49m\u001b[38;5;124;43m(\u001b[39;49m\u001b[38;5;124;43m\\\u001b[39;49m\u001b[38;5;124;43mBox p \u001b[39;49m\u001b[38;5;124;43m\\\u001b[39;49m\u001b[38;5;124;43mrightarrow p)\u001b[39;49m\u001b[38;5;124;43m\"\u001b[39;49m\u001b[43m,\u001b[49m\u001b[43m \u001b[49m\u001b[43mtheory_name\u001b[49m\u001b[38;5;241;43m=\u001b[39;49m\u001b[38;5;124;43m\"\u001b[39;49m\u001b[38;5;124;43mexclusion\u001b[39;49m\u001b[38;5;124;43m\"\u001b[39;49m\u001b[43m)\u001b[49m\n",
      "File \u001b[0;32m~/Documents/Philosophy/Projects/ModelChecker/Code/src/model_checker/jupyter.py:901\u001b[0m, in \u001b[0;36mcheck_formula\u001b[0;34m(formula, theory_name, premises, settings)\u001b[0m\n\u001b[1;32m    898\u001b[0m \u001b[38;5;28;01mfrom\u001b[39;00m \u001b[38;5;21;01mmodel_checker\u001b[39;00m\u001b[38;5;21;01m.\u001b[39;00m\u001b[38;5;21;01mtheory_lib\u001b[39;00m \u001b[38;5;28;01mimport\u001b[39;00m get_semantic_theories\n\u001b[1;32m    900\u001b[0m \u001b[38;5;66;03m# Get semantic theories and then the specific theory\u001b[39;00m\n\u001b[0;32m--> 901\u001b[0m semantic_theories \u001b[38;5;241m=\u001b[39m \u001b[43mget_semantic_theories\u001b[49m\u001b[43m(\u001b[49m\u001b[43mtheory_name\u001b[49m\u001b[43m)\u001b[49m\n\u001b[1;32m    902\u001b[0m \u001b[38;5;28;01mfrom\u001b[39;00m \u001b[38;5;21;01mmodel_checker\u001b[39;00m\u001b[38;5;21;01m.\u001b[39;00m\u001b[38;5;21;01mutils\u001b[39;00m \u001b[38;5;28;01mimport\u001b[39;00m get_theory\n\u001b[1;32m    904\u001b[0m \u001b[38;5;66;03m# TODO: avoid special case by getting to the bottom of the issue\u001b[39;00m\n\u001b[1;32m    905\u001b[0m \u001b[38;5;66;03m# Handle special case for default theory which is named \"Brast-McKie\" in semantic_theories\u001b[39;00m\n",
      "File \u001b[0;32m~/Documents/Philosophy/Projects/ModelChecker/Code/src/model_checker/theory_lib/__init__.py:150\u001b[0m, in \u001b[0;36mget_semantic_theories\u001b[0;34m(theory_name)\u001b[0m\n\u001b[1;32m    148\u001b[0m     \u001b[38;5;28;01mreturn\u001b[39;00m module\u001b[38;5;241m.\u001b[39msemantic_theories\n\u001b[1;32m    149\u001b[0m \u001b[38;5;28;01mexcept\u001b[39;00m (\u001b[38;5;167;01mImportError\u001b[39;00m, \u001b[38;5;167;01mAttributeError\u001b[39;00m) \u001b[38;5;28;01mas\u001b[39;00m e:\n\u001b[0;32m--> 150\u001b[0m     \u001b[38;5;28;01mraise\u001b[39;00m \u001b[38;5;167;01mValueError\u001b[39;00m(\u001b[38;5;124mf\u001b[39m\u001b[38;5;124m\"\u001b[39m\u001b[38;5;124mCould not load semantic theories for theory \u001b[39m\u001b[38;5;124m'\u001b[39m\u001b[38;5;132;01m{\u001b[39;00mtheory_name\u001b[38;5;132;01m}\u001b[39;00m\u001b[38;5;124m'\u001b[39m\u001b[38;5;124m: \u001b[39m\u001b[38;5;132;01m{\u001b[39;00m\u001b[38;5;28mstr\u001b[39m(e)\u001b[38;5;132;01m}\u001b[39;00m\u001b[38;5;124m\"\u001b[39m)\n",
      "\u001b[0;31mValueError\u001b[0m: Could not load semantic theories for theory 'exclusion': cannot import name 'ExclusionSemantics' from 'semantic' (/home/benjamin/Documents/Philosophy/Projects/ModelChecker/Code/src/model_checker/theory_lib/default/semantic.py)"
     ]
    }
   ],
   "source": [
    "# Check in exclusion theory\n",
    "check_formula(r\"(\\Box p \\rightarrow p)\", theory_name=\"exclusion\")"
   ]
  },
  {
   "cell_type": "code",
   "execution_count": null,
   "metadata": {},
   "outputs": [],
   "source": [
    "# Check in exclusion theory\n",
    "check_formula(\"□p \\rightarrow p\", theory_name=\"exclusion\")"
   ]
  },
  {
   "cell_type": "markdown",
   "metadata": {},
   "source": [
    "# Check with custom settings\n",
    "custom_settings = {\n",
    "    'N': 4,  # Number of atomic propositions\n",
    "    'max_time': 10,  # Maximum solving time\n",
    "    'contingent': True,  # Use contingent valuations\n",
    "    'non_empty': True,  # Ensure non-empty valuations\n",
    "}\n",
    "\n",
    "check_formula(r\"(p \\vee q \\vee r \\vee s)\", settings=custom_settings)"
   ]
  },
  {
   "cell_type": "code",
   "execution_count": null,
   "metadata": {},
   "outputs": [],
   "source": [
    "# Check with custom settings\n",
    "custom_settings = {\n",
    "    'N': 4,  # Number of atomic propositions\n",
    "    'max_time': 10,  # Maximum solving time\n",
    "    'contingent': True,  # Use contingent valuations\n",
    "    'non_empty': True,  # Ensure non-empty valuations\n",
    "}\n",
    "\n",
    "check_formula(\"p ∨ q ∨ r ∨ s\", settings=custom_settings)"
   ]
  },
  {
   "cell_type": "markdown",
   "metadata": {},
   "source": [
    "# Create an explorer and check a formula\n",
    "explorer = InteractiveModelExplorer()\n",
    "explorer.formula_input.value = r\"(p \\wedge q)\"\n",
    "explorer.check_button.click()\n",
    "\n",
    "# Get the HTML output\n",
    "html_output = explorer.get_output()\n",
    "\n",
    "# Display a portion of it\n",
    "html_snippet = html_output[:500] + \"...\" if len(html_output) > 500 else html_output\n",
    "print(f\"HTML output (first 500 chars): {html_snippet}\")"
   ]
  },
  {
   "cell_type": "code",
   "execution_count": null,
   "metadata": {},
   "outputs": [],
   "source": [
    "# Create an explorer and check a formula\n",
    "explorer = InteractiveModelExplorer()\n",
    "explorer.formula_input.value = \"p ∧ q\"\n",
    "explorer.check_button.click()\n",
    "\n",
    "# Get the HTML output\n",
    "html_output = explorer.get_output()\n",
    "\n",
    "# Display a portion of it\n",
    "html_snippet = html_output[:500] + \"...\" if len(html_output) > 500 else html_output\n",
    "print(f\"HTML output (first 500 chars): {html_snippet}\")"
   ]
  },
  {
   "cell_type": "markdown",
   "metadata": {},
   "source": [
    "from model_checker.jupyter import check_formula_interactive\n",
    "\n",
    "# Create an interactive explorer for a specific formula\n",
    "multi_explorer = check_formula_interactive(r\"(\\Diamond p \\wedge \\Diamond \\neg p)\")\n",
    "\n",
    "# The explorer is returned, allowing further interaction\n",
    "multi_explorer.display()"
   ]
  },
  {
   "cell_type": "code",
   "execution_count": null,
   "metadata": {},
   "outputs": [],
   "source": [
    "from model_checker.jupyter import check_formula_interactive\n",
    "\n",
    "# Create an interactive explorer for a specific formula\n",
    "multi_explorer = check_formula_interactive(\"◇p ∧ ◇¬p\")\n",
    "\n",
    "# The explorer is returned, allowing further interaction\n",
    "multi_explorer.display()"
   ]
  },
  {
   "cell_type": "markdown",
   "metadata": {},
   "source": [
    "You can click the \"Find Next Model\" button to explore alternative models for the formula."
   ]
  },
  {
   "cell_type": "markdown",
   "metadata": {},
   "source": [
    "## 9. Conclusion\n",
    "\n",
    "This notebook demonstrated the key features of the ModelChecker Jupyter integration:\n",
    "\n",
    "1. Setting up the environment for both pip-installed and NixOS users\n",
    "2. Quick formula checking with `check_formula`\n",
    "3. Interactive exploration with `InteractiveModelExplorer`\n",
    "4. Comparing formulas across different theories\n",
    "5. Customizing model settings\n",
    "6. Finding and exploring multiple models\n",
    "\n",
    "The integration makes it easy to use ModelChecker in a Jupyter environment for teaching, research, and interactive exploration of logical models."
   ]
  }
 ],
 "metadata": {
  "kernelspec": {
   "display_name": "Python 3 (ipykernel)",
   "language": "python",
   "name": "python3"
  },
  "language_info": {
   "codemirror_mode": {
    "name": "ipython",
    "version": 3
   },
   "file_extension": ".py",
   "mimetype": "text/x-python",
   "name": "python",
   "nbconvert_exporter": "python",
   "pygments_lexer": "ipython3",
   "version": "3.12.8"
  }
 },
 "nbformat": 4,
 "nbformat_minor": 4
}
