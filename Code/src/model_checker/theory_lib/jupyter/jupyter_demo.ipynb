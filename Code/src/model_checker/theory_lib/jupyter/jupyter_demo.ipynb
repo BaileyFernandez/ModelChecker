{
 "cells": [
  {
   "cell_type": "markdown",
   "metadata": {},
   "source": [
    "# ModelChecker Jupyter Integration Demo\n",
    "\n",
    "This notebook demonstrates how to use the interactive features of ModelChecker in Jupyter notebooks."
   ]
  },
  {
   "cell_type": "markdown",
   "metadata": {},
   "source": [
    "## 1. Environment Setup\n",
    "\n",
    "First, we'll set up the environment to ensure the model_checker package is properly available:"
   ]
  },
  {
   "cell_type": "code",
   "execution_count": null,
   "metadata": {},
   "outputs": [],
   "source": [
    "# Set up the environment for the model_checker package\n",
    "import sys\n",
    "import os\n",
    "import importlib\n",
    "\n",
    "# Helper function to setup imports\n",
    "def setup_model_checker_env():\n",
    "    # Try to find the ModelChecker project root\n",
    "    possible_roots = [\n",
    "        # If notebook is in the repo structure\n",
    "        os.path.abspath(os.path.join(os.getcwd(), \"../../../../../\")),\n",
    "        os.path.abspath(os.path.join(os.getcwd(), \"../../../../\")),\n",
    "        os.path.abspath(os.path.join(os.getcwd(), \"../../../\")),\n",
    "        os.path.abspath(os.path.join(os.getcwd(), \"../../\")),\n",
    "        # Common installation paths\n",
    "        os.path.expanduser(\"~/Documents/Philosophy/Projects/ModelChecker/Code\"),\n",
    "        os.path.expanduser(\"~/ModelChecker/Code\"),\n",
    "    ]\n",
    "    \n",
    "    project_root = None\n",
    "    for path in possible_roots:\n",
    "        if os.path.isdir(path) and os.path.isdir(os.path.join(path, \"src\", \"model_checker\")):\n",
    "            project_root = path\n",
    "            break\n",
    "    \n",
    "    if project_root is None:\n",
    "        print(\"Could not find ModelChecker project root. Please specify the path manually.\")\n",
    "        return False\n",
    "    \n",
    "    # Add project root and src directory to path\n",
    "    paths_to_add = [project_root, os.path.join(project_root, \"src\")]\n",
    "    for path in paths_to_add:\n",
    "        if path not in sys.path:\n",
    "            sys.path.insert(0, path)\n",
    "    \n",
    "    # Try importing model_checker\n",
    "    try:\n",
    "        # If already imported, reload to ensure we're using the correct version\n",
    "        if \"model_checker\" in sys.modules:\n",
    "            importlib.reload(sys.modules[\"model_checker\"])\n",
    "        else:\n",
    "            import model_checker\n",
    "        \n",
    "        print(f\"Imported model_checker from {sys.modules['model_checker'].__file__}\")\n",
    "        return True\n",
    "    except ImportError as e:\n",
    "        print(f\"Error importing model_checker: {e}\")\n",
    "        return False\n",
    "\n",
    "# Run the setup\n",
    "setup_success = setup_model_checker_env()\n",
    "\n",
    "# Diagnostic information\n",
    "if setup_success:\n",
    "    import model_checker\n",
    "    print(f\"ModelChecker version: {model_checker.__version__}\")\n",
    "    print(f\"ModelChecker location: {model_checker.__file__}\")\n",
    "else:\n",
    "    print(\"Failed to set up ModelChecker environment\")"
   ]
  },
  {
   "cell_type": "markdown",
   "metadata": {},
   "source": [
    "## 2. Basic Import and Setup\n",
    "\n",
    "Now we'll import the jupyter module from ModelChecker:"
   ]
  },
  {
   "cell_type": "code",
   "execution_count": null,
   "metadata": {},
   "outputs": [],
   "source": [
    "from model_checker.jupyter import InteractiveModelExplorer, check_formula"
   ]
  },
  {
   "cell_type": "markdown",
   "metadata": {},
   "source": [
    "## 3. Quick Formula Checking\n",
    "\n",
    "For simple formula checks, we can use the `check_formula` function:"
   ]
  },
  {
   "cell_type": "code",
   "execution_count": null,
   "metadata": {},
   "outputs": [],
   "source": [
    "# Check a simple propositional formula\n",
    "check_formula(\"p → (q → p)\")"
   ]
  },
  {
   "cell_type": "code",
   "execution_count": null,
   "metadata": {},
   "outputs": [],
   "source": [
    "# Check a modal formula\n",
    "check_formula(\"□(p → q) → (□p → □q)\")"
   ]
  },
  {
   "cell_type": "code",
   "execution_count": null,
   "metadata": {},
   "outputs": [],
   "source": [
    "# Check validity with premises\n",
    "check_formula(\"q\", premises=[\"p\", \"p → q\"])"
   ]
  },
  {
   "cell_type": "markdown",
   "metadata": {},
   "source": [
    "## 4. Interactive Model Explorer\n",
    "\n",
    "For more interactive exploration, we can use the `InteractiveModelExplorer` class:"
   ]
  },
  {
   "cell_type": "code",
   "execution_count": null,
   "metadata": {},
   "outputs": [],
   "source": [
    "# Create an explorer with the default theory\n",
    "explorer = InteractiveModelExplorer()\n",
    "\n",
    "# Display the interactive UI\n",
    "explorer.display()"
   ]
  },
  {
   "cell_type": "markdown",
   "metadata": {},
   "source": [
    "## 5. Exploring Different Theories\n",
    "\n",
    "ModelChecker supports multiple logical theories. Let's check the same formula in different theories:"
   ]
  },
  {
   "cell_type": "code",
   "execution_count": null,
   "metadata": {},
   "outputs": [],
   "source": [
    "# Check in default theory\n",
    "check_formula(\"□p → p\", theory_name=\"default\")"
   ]
  },
  {
   "cell_type": "code",
   "execution_count": null,
   "metadata": {},
   "outputs": [],
   "source": [
    "# Check in exclusion theory\n",
    "check_formula(\"□p → p\", theory_name=\"exclusion\")"
   ]
  },
  {
   "cell_type": "markdown",
   "metadata": {},
   "source": [
    "## 6. Customizing Model Settings\n",
    "\n",
    "We can customize various model settings:"
   ]
  },
  {
   "cell_type": "code",
   "execution_count": null,
   "metadata": {},
   "outputs": [],
   "source": [
    "# Check with custom settings\n",
    "custom_settings = {\n",
    "    'N': 4,  # Number of atomic propositions\n",
    "    'max_time': 10,  # Maximum solving time\n",
    "    'contingent': True,  # Use contingent valuations\n",
    "    'non_empty': True,  # Ensure non-empty valuations\n",
    "}\n",
    "\n",
    "check_formula(\"p ∨ q ∨ r ∨ s\", settings=custom_settings)"
   ]
  },
  {
   "cell_type": "markdown",
   "metadata": {},
   "source": [
    "## 7. Getting the Model Output as HTML\n",
    "\n",
    "We can get the model output as HTML for further processing:"
   ]
  },
  {
   "cell_type": "code",
   "execution_count": null,
   "metadata": {},
   "outputs": [],
   "source": [
    "# Create an explorer and check a formula\n",
    "explorer = InteractiveModelExplorer()\n",
    "explorer.formula_input.value = \"p ∧ q\"\n",
    "explorer.check_button.click()\n",
    "\n",
    "# Get the HTML output\n",
    "html_output = explorer.get_output()\n",
    "\n",
    "# Display a portion of it\n",
    "html_snippet = html_output[:500] + \"...\" if len(html_output) > 500 else html_output\n",
    "print(f\"HTML output (first 500 chars): {html_snippet}\")"
   ]
  },
  {
   "cell_type": "markdown",
   "metadata": {},
   "source": [
    "## 8. Advanced Usage: Working with Multiple Models\n",
    "\n",
    "We can find and explore multiple models for the same formula:"
   ]
  },
  {
   "cell_type": "code",
   "execution_count": null,
   "metadata": {},
   "outputs": [],
   "source": [
    "from model_checker.jupyter import check_formula_interactive\n",
    "\n",
    "# Create an interactive explorer for a specific formula\n",
    "multi_explorer = check_formula_interactive(\"◇p ∧ ◇¬p\")\n",
    "\n",
    "# The explorer is returned, allowing further interaction\n",
    "multi_explorer.display()"
   ]
  },
  {
   "cell_type": "markdown",
   "metadata": {},
   "source": [
    "You can click the \"Find Next Model\" button to explore alternative models for the formula."
   ]
  },
  {
   "cell_type": "markdown",
   "metadata": {},
   "source": [
    "## 9. Conclusion\n",
    "\n",
    "This notebook demonstrated the key features of the ModelChecker Jupyter integration:\n",
    "\n",
    "1. Setting up the environment for both pip-installed and NixOS users\n",
    "2. Quick formula checking with `check_formula`\n",
    "3. Interactive exploration with `InteractiveModelExplorer`\n",
    "4. Comparing formulas across different theories\n",
    "5. Customizing model settings\n",
    "6. Finding and exploring multiple models\n",
    "\n",
    "The integration makes it easy to use ModelChecker in a Jupyter environment for teaching, research, and interactive exploration of logical models."
   ]
  }
 ],
 "metadata": {
  "kernelspec": {
   "display_name": "Python 3",
   "language": "python",
   "name": "python3"
  },
  "language_info": {
   "codemirror_mode": {
    "name": "ipython",
    "version": 3
   },
   "file_extension": ".py",
   "mimetype": "text/x-python",
   "name": "python",
   "nbconvert_exporter": "python",
   "pygments_lexer": "ipython3",
   "version": "3.8.10"
  }
 },
 "nbformat": 4,
 "nbformat_minor": 4
}