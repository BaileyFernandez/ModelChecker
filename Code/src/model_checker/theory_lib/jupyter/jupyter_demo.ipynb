{
 "cells": [
  {
   "cell_type": "markdown",
   "metadata": {},
   "source": [
    "# ModelChecker Jupyter Integration Demo\n",
    "\n",
    "This notebook demonstrates how to use the interactive features of ModelChecker in Jupyter notebooks."
   ]
  },
  {
   "cell_type": "markdown",
   "metadata": {},
   "source": [
    "## 1. Environment Setup\n",
    "\n",
    "First, we'll set up the environment to ensure the model_checker package is properly available:"
   ]
  },
  {
   "cell_type": "code",
   "execution_count": 1,
   "metadata": {},
   "outputs": [
    {
     "name": "stdout",
     "output_type": "stream",
     "text": [
      "Imported model_checker from /home/benjamin/Documents/Philosophy/Projects/ModelChecker/Code/src/model_checker/__init__.py\n",
      "ModelChecker version: 0.8.26\n",
      "ModelChecker location: /home/benjamin/Documents/Philosophy/Projects/ModelChecker/Code/src/model_checker/__init__.py\n",
      "Jupyter module available: True\n"
     ]
    }
   ],
   "source": [
    "# Set up the environment for the model_checker package\n",
    "import sys\n",
    "import os\n",
    "import importlib\n",
    "\n",
    "# Helper function to setup imports\n",
    "def setup_model_checker_env():\n",
    "    # Try to find the ModelChecker project root\n",
    "    possible_roots = [\n",
    "        # If notebook is in the repo structure\n",
    "        os.path.abspath(os.path.join(os.getcwd(), \"../../../../../\")),\n",
    "        os.path.abspath(os.path.join(os.getcwd(), \"../../../../\")),\n",
    "        os.path.abspath(os.path.join(os.getcwd(), \"../../../\")),\n",
    "        os.path.abspath(os.path.join(os.getcwd(), \"../../\")),\n",
    "        # Common installation paths\n",
    "        os.path.expanduser(\"~/Documents/Philosophy/Projects/ModelChecker/Code\"),\n",
    "        os.path.expanduser(\"~/ModelChecker/Code\"),\n",
    "    ]\n",
    "    \n",
    "    project_root = None\n",
    "    for path in possible_roots:\n",
    "        if os.path.isdir(path) and os.path.isdir(os.path.join(path, \"src\", \"model_checker\")):\n",
    "            project_root = path\n",
    "            break\n",
    "    \n",
    "    if project_root is None:\n",
    "        print(\"Could not find ModelChecker project root. Please specify the path manually.\")\n",
    "        return False\n",
    "    \n",
    "    # Add project root and src directory to path\n",
    "    paths_to_add = [project_root, os.path.join(project_root, \"src\")]\n",
    "    for path in paths_to_add:\n",
    "        if path not in sys.path:\n",
    "            sys.path.insert(0, path)\n",
    "    \n",
    "    # Try importing model_checker\n",
    "    try:\n",
    "        # If already imported, reload to ensure we're using the correct version\n",
    "        if \"model_checker\" in sys.modules:\n",
    "            importlib.reload(sys.modules[\"model_checker\"])\n",
    "        else:\n",
    "            import model_checker\n",
    "        \n",
    "        print(f\"Imported model_checker from {sys.modules['model_checker'].__file__}\")\n",
    "        \n",
    "        # Make sure jupyter module is properly imported\n",
    "        if \"model_checker.jupyter\" in sys.modules:\n",
    "            importlib.reload(sys.modules[\"model_checker.jupyter\"])\n",
    "        \n",
    "        return True\n",
    "    except ImportError as e:\n",
    "        print(f\"Error importing model_checker: {e}\")\n",
    "        return False\n",
    "\n",
    "# Run the setup\n",
    "setup_success = setup_model_checker_env()\n",
    "\n",
    "# Diagnostic information\n",
    "if setup_success:\n",
    "    import model_checker\n",
    "    print(f\"ModelChecker version: {model_checker.__version__}\")\n",
    "    print(f\"ModelChecker location: {model_checker.__file__}\")\n",
    "    print(f\"Jupyter module available: {'jupyter' in dir(model_checker)}\")\n",
    "else:\n",
    "    print(\"Failed to set up ModelChecker environment\")"
   ]
  },
  {
   "cell_type": "markdown",
   "metadata": {},
   "source": [
    "## 2. Basic Import and Setup\n",
    "\n",
    "Now we'll import the jupyter module from ModelChecker:"
   ]
  },
  {
   "cell_type": "code",
   "execution_count": 2,
   "metadata": {},
   "outputs": [],
   "source": [
    "from model_checker.jupyter import InteractiveModelExplorer, check_formula"
   ]
  },
  {
   "cell_type": "markdown",
   "metadata": {},
   "source": [
    "# Check a simple propositional formula\n",
    "check_formula(r\"(p \\rightarrow (q \\rightarrow p))\")"
   ]
  },
  {
   "cell_type": "code",
   "execution_count": 3,
   "metadata": {},
   "outputs": [
    {
     "name": "stdout",
     "output_type": "stream",
     "text": [
      "========================================\n",
      "\n",
      "EXAMPLE formula_check: there is no countermodel.\n",
      "\n",
      "Atomic States: 3\n",
      "\n",
      "Semantic Theory: default\n",
      "\n",
      "Premise:\n",
      "\n",
      "Conclusion:\n",
      "1. (\\Box (p \\rightarrow q) \\rightarrow (\\Box p \\rightarrow \\Box q))\n",
      "\n",
      "Z3 Run Time: 0.0039 seconds\n",
      "\n",
      "========================================\n",
      "\n"
     ]
    },
    {
     "data": {
      "text/html": [
       "<h3>Formula: (\\Box (p \\rightarrow q) \\rightarrow (\\Box p \\rightarrow \\Box q))</h3><p><b>Valid:</b> <span style='color:red'>False</span></p><pre style='white-space: pre-wrap;'></pre>"
      ],
      "text/plain": [
       "<IPython.core.display.HTML object>"
      ]
     },
     "execution_count": 3,
     "metadata": {},
     "output_type": "execute_result"
    }
   ],
   "source": [
    "# Check a modal formula\n",
    "check_formula(r\"(\\Box (p \\rightarrow q) \\rightarrow (\\Box p \\rightarrow \\Box q))\")"
   ]
  },
  {
   "cell_type": "code",
   "execution_count": 4,
   "metadata": {},
   "outputs": [
    {
     "name": "stdout",
     "output_type": "stream",
     "text": [
      "========================================\n",
      "\n",
      "EXAMPLE formula_check: there is no countermodel.\n",
      "\n",
      "Atomic States: 3\n",
      "\n",
      "Semantic Theory: default\n",
      "\n",
      "Premises:\n",
      "1. p\n",
      "2. (p \\rightarrow q)\n",
      "\n",
      "Conclusion:\n",
      "3. q\n",
      "\n",
      "Z3 Run Time: 0.0035 seconds\n",
      "\n",
      "========================================\n",
      "\n"
     ]
    },
    {
     "data": {
      "text/html": [
       "<h3>Formula: q</h3><p><b>Valid:</b> <span style='color:red'>False</span></p><pre style='white-space: pre-wrap;'></pre>"
      ],
      "text/plain": [
       "<IPython.core.display.HTML object>"
      ]
     },
     "execution_count": 4,
     "metadata": {},
     "output_type": "execute_result"
    }
   ],
   "source": [
    "# Check validity with premises\n",
    "# Note: When using raw strings and ModelChecker syntax, we need to:\n",
    "# 1. Use parentheses around binary operators like \\rightarrow\n",
    "# 2. Use raw strings (r prefix) to avoid Python escape issues with backslashes\n",
    "check_formula(\"q\", premises=[\"p\", r\"(p \\rightarrow q)\"])"
   ]
  },
  {
   "cell_type": "code",
   "execution_count": 5,
   "metadata": {},
   "outputs": [
    {
     "name": "stdout",
     "output_type": "stream",
     "text": [
      "========================================\n",
      "\n",
      "EXAMPLE formula_check: there is no countermodel.\n",
      "\n",
      "Atomic States: 3\n",
      "\n",
      "Semantic Theory: default\n",
      "\n",
      "Premises:\n",
      "1. p\n",
      "2. (p \\rightarrow q)\n",
      "\n",
      "Conclusion:\n",
      "3. q\n",
      "\n",
      "Z3 Run Time: 0.0031 seconds\n",
      "\n",
      "========================================\n",
      "\n"
     ]
    },
    {
     "data": {
      "text/html": [
       "<h3>Formula: q</h3><p><b>Valid:</b> <span style='color:red'>False</span></p><pre style='white-space: pre-wrap;'></pre>"
      ],
      "text/plain": [
       "<IPython.core.display.HTML object>"
      ]
     },
     "execution_count": 5,
     "metadata": {},
     "output_type": "execute_result"
    }
   ],
   "source": [
    "# Check validity with premises\n",
    "check_formula(\"q\", premises=[\"p\", r\"p \\rightarrow q\"])"
   ]
  },
  {
   "cell_type": "markdown",
   "metadata": {},
   "source": [
    "## 4. Interactive Model Explorer\n",
    "\n",
    "For more interactive exploration, we can use the `InteractiveModelExplorer` class:"
   ]
  },
  {
   "cell_type": "code",
   "execution_count": 6,
   "metadata": {},
   "outputs": [
    {
     "ename": "TypeError",
     "evalue": "get_semantic_theories() missing 1 required positional argument: 'theory_name'",
     "output_type": "error",
     "traceback": [
      "\u001b[0;31m---------------------------------------------------------------------------\u001b[0m",
      "\u001b[0;31mTypeError\u001b[0m                                 Traceback (most recent call last)",
      "Cell \u001b[0;32mIn[6], line 2\u001b[0m\n\u001b[1;32m      1\u001b[0m \u001b[38;5;66;03m# Create an explorer with the default theory\u001b[39;00m\n\u001b[0;32m----> 2\u001b[0m explorer \u001b[38;5;241m=\u001b[39m \u001b[43mInteractiveModelExplorer\u001b[49m\u001b[43m(\u001b[49m\u001b[43m)\u001b[49m\n\u001b[1;32m      4\u001b[0m \u001b[38;5;66;03m# Display the interactive UI\u001b[39;00m\n\u001b[1;32m      5\u001b[0m explorer\u001b[38;5;241m.\u001b[39mdisplay()\n",
      "File \u001b[0;32m~/Documents/Philosophy/Projects/ModelChecker/Code/src/model_checker/jupyter.py:327\u001b[0m, in \u001b[0;36mInteractiveModelExplorer.__init__\u001b[0;34m(self, theory_name)\u001b[0m\n\u001b[1;32m    325\u001b[0m \u001b[38;5;28mself\u001b[39m\u001b[38;5;241m.\u001b[39mtheory_name \u001b[38;5;241m=\u001b[39m theory_name\n\u001b[1;32m    326\u001b[0m \u001b[38;5;66;03m# Fix the TypeError by getting semantic theories first\u001b[39;00m\n\u001b[0;32m--> 327\u001b[0m semantic_theories \u001b[38;5;241m=\u001b[39m \u001b[43mget_semantic_theories\u001b[49m\u001b[43m(\u001b[49m\u001b[43m)\u001b[49m\n\u001b[1;32m    328\u001b[0m \u001b[38;5;28mself\u001b[39m\u001b[38;5;241m.\u001b[39mtheory \u001b[38;5;241m=\u001b[39m get_theory(theory_name, semantic_theories)\n\u001b[1;32m    329\u001b[0m \u001b[38;5;28mself\u001b[39m\u001b[38;5;241m.\u001b[39msettings \u001b[38;5;241m=\u001b[39m {\n\u001b[1;32m    330\u001b[0m     \u001b[38;5;124m'\u001b[39m\u001b[38;5;124mN\u001b[39m\u001b[38;5;124m'\u001b[39m: \u001b[38;5;241m3\u001b[39m,\n\u001b[1;32m    331\u001b[0m     \u001b[38;5;124m'\u001b[39m\u001b[38;5;124mmax_time\u001b[39m\u001b[38;5;124m'\u001b[39m: \u001b[38;5;241m5\u001b[39m,\n\u001b[0;32m   (...)\u001b[0m\n\u001b[1;32m    335\u001b[0m     \u001b[38;5;124m'\u001b[39m\u001b[38;5;124mmodel\u001b[39m\u001b[38;5;124m'\u001b[39m: \u001b[38;5;28;01mTrue\u001b[39;00m  \u001b[38;5;66;03m# Default to looking for a satisfying model\u001b[39;00m\n\u001b[1;32m    336\u001b[0m }\n",
      "\u001b[0;31mTypeError\u001b[0m: get_semantic_theories() missing 1 required positional argument: 'theory_name'"
     ]
    }
   ],
   "source": [
    "# Create an explorer with the default theory\n",
    "explorer = InteractiveModelExplorer()\n",
    "\n",
    "# Display the interactive UI\n",
    "explorer.display()"
   ]
  },
  {
   "cell_type": "markdown",
   "metadata": {},
   "source": [
    "# Check in default theory\n",
    "check_formula(r\"(\\Box p \\rightarrow p)\", theory_name=\"default\")"
   ]
  },
  {
   "cell_type": "code",
   "execution_count": null,
   "metadata": {},
   "outputs": [],
   "source": [
    "# Check in exclusion theory\n",
    "check_formula(r\"(\\Box p \\rightarrow p)\", theory_name=\"exclusion\")"
   ]
  },
  {
   "cell_type": "code",
   "execution_count": null,
   "metadata": {},
   "outputs": [],
   "source": [
    "# Check in exclusion theory\n",
    "check_formula(\"□p \\rightarrow p\", theory_name=\"exclusion\")"
   ]
  },
  {
   "cell_type": "markdown",
   "metadata": {},
   "source": [
    "# Check with custom settings\n",
    "custom_settings = {\n",
    "    'N': 4,  # Number of atomic propositions\n",
    "    'max_time': 10,  # Maximum solving time\n",
    "    'contingent': True,  # Use contingent valuations\n",
    "    'non_empty': True,  # Ensure non-empty valuations\n",
    "}\n",
    "\n",
    "check_formula(r\"(p \\vee q \\vee r \\vee s)\", settings=custom_settings)"
   ]
  },
  {
   "cell_type": "code",
   "execution_count": null,
   "metadata": {},
   "outputs": [],
   "source": [
    "# Check with custom settings\n",
    "custom_settings = {\n",
    "    'N': 4,  # Number of atomic propositions\n",
    "    'max_time': 10,  # Maximum solving time\n",
    "    'contingent': True,  # Use contingent valuations\n",
    "    'non_empty': True,  # Ensure non-empty valuations\n",
    "}\n",
    "\n",
    "check_formula(\"p ∨ q ∨ r ∨ s\", settings=custom_settings)"
   ]
  },
  {
   "cell_type": "markdown",
   "metadata": {},
   "source": [
    "# Create an explorer and check a formula\n",
    "explorer = InteractiveModelExplorer()\n",
    "explorer.formula_input.value = r\"(p \\wedge q)\"\n",
    "explorer.check_button.click()\n",
    "\n",
    "# Get the HTML output\n",
    "html_output = explorer.get_output()\n",
    "\n",
    "# Display a portion of it\n",
    "html_snippet = html_output[:500] + \"...\" if len(html_output) > 500 else html_output\n",
    "print(f\"HTML output (first 500 chars): {html_snippet}\")"
   ]
  },
  {
   "cell_type": "code",
   "execution_count": null,
   "metadata": {},
   "outputs": [],
   "source": [
    "# Create an explorer and check a formula\n",
    "explorer = InteractiveModelExplorer()\n",
    "explorer.formula_input.value = \"p ∧ q\"\n",
    "explorer.check_button.click()\n",
    "\n",
    "# Get the HTML output\n",
    "html_output = explorer.get_output()\n",
    "\n",
    "# Display a portion of it\n",
    "html_snippet = html_output[:500] + \"...\" if len(html_output) > 500 else html_output\n",
    "print(f\"HTML output (first 500 chars): {html_snippet}\")"
   ]
  },
  {
   "cell_type": "markdown",
   "metadata": {},
   "source": [
    "from model_checker.jupyter import check_formula_interactive\n",
    "\n",
    "# Create an interactive explorer for a specific formula\n",
    "multi_explorer = check_formula_interactive(r\"(\\Diamond p \\wedge \\Diamond \\neg p)\")\n",
    "\n",
    "# The explorer is returned, allowing further interaction\n",
    "multi_explorer.display()"
   ]
  },
  {
   "cell_type": "code",
   "execution_count": null,
   "metadata": {},
   "outputs": [],
   "source": [
    "from model_checker.jupyter import check_formula_interactive\n",
    "\n",
    "# Create an interactive explorer for a specific formula\n",
    "multi_explorer = check_formula_interactive(\"◇p ∧ ◇¬p\")\n",
    "\n",
    "# The explorer is returned, allowing further interaction\n",
    "multi_explorer.display()"
   ]
  },
  {
   "cell_type": "markdown",
   "metadata": {},
   "source": [
    "You can click the \"Find Next Model\" button to explore alternative models for the formula."
   ]
  },
  {
   "cell_type": "markdown",
   "metadata": {},
   "source": [
    "## 9. Conclusion\n",
    "\n",
    "This notebook demonstrated the key features of the ModelChecker Jupyter integration:\n",
    "\n",
    "1. Setting up the environment for both pip-installed and NixOS users\n",
    "2. Quick formula checking with `check_formula`\n",
    "3. Interactive exploration with `InteractiveModelExplorer`\n",
    "4. Comparing formulas across different theories\n",
    "5. Customizing model settings\n",
    "6. Finding and exploring multiple models\n",
    "\n",
    "The integration makes it easy to use ModelChecker in a Jupyter environment for teaching, research, and interactive exploration of logical models."
   ]
  }
 ],
 "metadata": {
  "kernelspec": {
   "display_name": "Python 3 (ipykernel)",
   "language": "python",
   "name": "python3"
  },
  "language_info": {
   "codemirror_mode": {
    "name": "ipython",
    "version": 3
   },
   "file_extension": ".py",
   "mimetype": "text/x-python",
   "name": "python",
   "nbconvert_exporter": "python",
   "pygments_lexer": "ipython3",
   "version": "3.12.8"
  }
 },
 "nbformat": 4,
 "nbformat_minor": 4
}
