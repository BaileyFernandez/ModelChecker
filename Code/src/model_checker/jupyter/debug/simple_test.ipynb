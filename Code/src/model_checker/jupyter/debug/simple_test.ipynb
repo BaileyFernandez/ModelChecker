{
 "cells": [
  {
   "cell_type": "markdown",
   "metadata": {},
   "source": [
    "# Simple Test Notebook for ModelChecker Jupyter Integration"
   ]
  },
  {
   "cell_type": "code",
   "execution_count": 1,
   "metadata": {},
   "outputs": [
    {
     "name": "stdout",
     "output_type": "stream",
     "text": [
      "Current directory: /home/benjamin/Documents/Philosophy/Projects/ModelChecker/Code/debug\n",
      "\n",
      "System path:\n",
      "  /home/benjamin/Documents/Philosophy/Projects/ModelChecker/Code\n",
      "  /home/benjamin/Documents/Philosophy/Projects/ModelChecker/Code/src\n",
      "  \n",
      "  /nix/store/h3i0acpmr8mrjx07519xxmidv8mpax4y-python3-3.12.5/lib/python3.12/site-packages\n",
      "  /nix/store/m3q9aavsms4fcj0n1x5w1g6cn60h0hc0-z3-solver-4.8.17-python/lib/python3.12/site-packages\n",
      "  /nix/store/l7idy2qiiv0v0b6khfjvz3l5k6mnm47l-python3.12-setuptools-72.1.0/lib/python3.12/site-packages\n",
      "  /nix/store/gam79wgc54sn8yyw2xkrqkf93v5lwaz1-python3.12-pip-24.0/lib/python3.12/site-packages\n",
      "  /nix/store/lhpwdis5hkyljz1d200bj1s6g51ljq9k-python3-3.12.8/lib/python312.zip\n",
      "  /nix/store/lhpwdis5hkyljz1d200bj1s6g51ljq9k-python3-3.12.8/lib/python3.12\n",
      "  /nix/store/lhpwdis5hkyljz1d200bj1s6g51ljq9k-python3-3.12.8/lib/python3.12/lib-dynload\n",
      "  /nix/store/lhpwdis5hkyljz1d200bj1s6g51ljq9k-python3-3.12.8/lib/python3.12/site-packages\n",
      "  /nix/store/bi8y3lx1593a2i7blq9dgpv4kvkl46di-python3-3.12.8-env/lib/python3.12/site-packages\n"
     ]
    }
   ],
   "source": [
    "# Set up the environment\n",
    "import sys\n",
    "import os\n",
    "\n",
    "# Get current directory\n",
    "current_dir = os.getcwd()\n",
    "print(f\"Current directory: {current_dir}\")\n",
    "\n",
    "# Add src to path if needed\n",
    "src_dir = os.path.join(current_dir, 'src')\n",
    "if os.path.exists(src_dir) and src_dir not in sys.path:\n",
    "    sys.path.insert(0, src_dir)\n",
    "    print(f\"Added to path: {src_dir}\")\n",
    "\n",
    "# Print system path for diagnostics\n",
    "print(\"\\nSystem path:\")\n",
    "for p in sys.path:\n",
    "    print(f\"  {p}\")"
   ]
  },
  {
   "cell_type": "code",
   "execution_count": 2,
   "metadata": {},
   "outputs": [
    {
     "name": "stdout",
     "output_type": "stream",
     "text": [
      "ModelChecker version: 0.8.26\n",
      "ModelChecker path: /home/benjamin/Documents/Philosophy/Projects/ModelChecker/Code/src/model_checker/__init__.py\n"
     ]
    }
   ],
   "source": [
    "# Basic imports\n",
    "try:\n",
    "    import model_checker\n",
    "    print(f\"ModelChecker version: {model_checker.__version__}\")\n",
    "    print(f\"ModelChecker path: {model_checker.__file__}\")\n",
    "except Exception as e:\n",
    "    print(f\"Error importing model_checker: {str(e)}\")"
   ]
  },
  {
   "cell_type": "code",
   "execution_count": 3,
   "metadata": {},
   "outputs": [
    {
     "name": "stdout",
     "output_type": "stream",
     "text": [
      "Successfully imported Jupyter integration components\n"
     ]
    }
   ],
   "source": [
    "# Import the Jupyter integration\n",
    "try:\n",
    "    from model_checker.jupyter import check_formula, find_countermodel, ModelExplorer\n",
    "    print(\"Successfully imported Jupyter integration components\")\n",
    "except Exception as e:\n",
    "    print(f\"Error importing Jupyter components: {str(e)}\")"
   ]
  },
  {
   "cell_type": "code",
   "execution_count": 4,
   "metadata": {},
   "outputs": [
    {
     "name": "stdout",
     "output_type": "stream",
     "text": [
      "Reloaded model_checker from /home/benjamin/Documents/Philosophy/Projects/ModelChecker/Code/src/model_checker/__init__.py\n",
      "Environment setup result: {'status': 'success', 'project_root': '/home/benjamin/Documents/Philosophy/Projects/ModelChecker/Code', 'model_checker_path': '/home/benjamin/Documents/Philosophy/Projects/ModelChecker/Code/src/model_checker/__init__.py', 'model_checker_version': '0.8.26', 'python_path': ['/home/benjamin/Documents/Philosophy/Projects/ModelChecker/Code', '/home/benjamin/Documents/Philosophy/Projects/ModelChecker/Code/src', '', '/nix/store/h3i0acpmr8mrjx07519xxmidv8mpax4y-python3-3.12.5/lib/python3.12/site-packages', '/nix/store/m3q9aavsms4fcj0n1x5w1g6cn60h0hc0-z3-solver-4.8.17-python/lib/python3.12/site-packages', '/nix/store/l7idy2qiiv0v0b6khfjvz3l5k6mnm47l-python3.12-setuptools-72.1.0/lib/python3.12/site-packages', '/nix/store/gam79wgc54sn8yyw2xkrqkf93v5lwaz1-python3.12-pip-24.0/lib/python3.12/site-packages', '/nix/store/lhpwdis5hkyljz1d200bj1s6g51ljq9k-python3-3.12.8/lib/python312.zip', '/nix/store/lhpwdis5hkyljz1d200bj1s6g51ljq9k-python3-3.12.8/lib/python3.12', '/nix/store/lhpwdis5hkyljz1d200bj1s6g51ljq9k-python3-3.12.8/lib/python3.12/lib-dynload', '/nix/store/lhpwdis5hkyljz1d200bj1s6g51ljq9k-python3-3.12.8/lib/python3.12/site-packages', '/nix/store/bi8y3lx1593a2i7blq9dgpv4kvkl46di-python3-3.12.8-env/lib/python3.12/site-packages', '/nix/store/l7idy2qiiv0v0b6khfjvz3l5k6mnm47l-python3.12-setuptools-72.1.0/lib/python3.12/site-packages/setuptools/_vendor']}\n",
      "Reloaded model_checker from /home/benjamin/Documents/Philosophy/Projects/ModelChecker/Code/src/model_checker/__init__.py\n",
      "\n",
      "Diagnostic info:\n",
      "- Python version: 3.12.8 (main, Dec  3 2024, 18:42:41) [GCC 13.3.0]\n",
      "- ModelChecker path: /home/benjamin/Documents/Philosophy/Projects/ModelChecker/Code/src/model_checker/__init__.py\n",
      "- Available theories: ['default', 'exclusion', 'imposition']\n"
     ]
    }
   ],
   "source": [
    "# Test environment setup\n",
    "try:\n",
    "    from model_checker.jupyter.environment import setup_environment, get_diagnostic_info\n",
    "    \n",
    "    # Run environment setup\n",
    "    env_info = setup_environment()\n",
    "    print(f\"Environment setup result: {env_info}\")\n",
    "    \n",
    "    # Get diagnostic info\n",
    "    diag_info = get_diagnostic_info()\n",
    "    print(f\"\\nDiagnostic info:\")\n",
    "    print(f\"- Python version: {diag_info.get('python_version', 'unknown')}\")\n",
    "    print(f\"- ModelChecker path: {diag_info.get('model_checker', {}).get('path', 'unknown')}\")\n",
    "    print(f\"- Available theories: {diag_info.get('model_checker', {}).get('theories', [])}\")\n",
    "except Exception as e:\n",
    "    print(f\"Error running environment setup: {str(e)}\")"
   ]
  },
  {
   "cell_type": "code",
   "execution_count": 5,
   "metadata": {},
   "outputs": [
    {
     "name": "stdout",
     "output_type": "stream",
     "text": [
      "Checking formula: p → (q → p)\n"
     ]
    },
    {
     "data": {
      "text/html": [
       "<p>Error checking formula: '\\\\\\\\rightarrow'</p>"
      ],
      "text/plain": [
       "<IPython.core.display.HTML object>"
      ]
     },
     "metadata": {},
     "output_type": "display_data"
    }
   ],
   "source": [
    "# Test formula checking\n",
    "try:\n",
    "    # Simple formula\n",
    "    print(\"Checking formula: (p → (q → p))\")\n",
    "    result = check_formula(\"(p → (q → p))\")\n",
    "    \n",
    "    # Display result - this should generate visual output in the notebook\n",
    "    from IPython.display import display\n",
    "    display(result)\n",
    "except Exception as e:\n",
    "    print(f\"Error checking formula: {str(e)}\")\n",
    "    import traceback\n",
    "    traceback.print_exc()"
   ]
  },
  {
   "cell_type": "code",
   "execution_count": 6,
   "metadata": {},
   "outputs": [
    {
     "name": "stdout",
     "output_type": "stream",
     "text": [
      "Checking formula with premises: q with premises [p, p → q]\n"
     ]
    },
    {
     "data": {
      "text/html": [
       "<p>Error checking formula: '\\\\\\\\rightarrow'</p>"
      ],
      "text/plain": [
       "<IPython.core.display.HTML object>"
      ]
     },
     "metadata": {},
     "output_type": "display_data"
    }
   ],
   "source": [
    "# Test with premises\n",
    "try:\n",
    "    print(\"Checking formula with premises: q with premises [p, (p → q)]\")\n",
    "    result = check_formula(\"q\", premises=[\"p\", \"(p → q)\"])\n",
    "    \n",
    "    # Display result\n",
    "    from IPython.display import display\n",
    "    display(result)\n",
    "except Exception as e:\n",
    "    print(f\"Error checking formula with premises: {str(e)}\")\n",
    "    import traceback\n",
    "    traceback.print_exc()"
   ]
  },
  {
   "cell_type": "code",
   "execution_count": 7,
   "metadata": {},
   "outputs": [
    {
     "name": "stdout",
     "output_type": "stream",
     "text": [
      "Creating interactive explorer...\n",
      "Reloaded model_checker from /home/benjamin/Documents/Philosophy/Projects/ModelChecker/Code/src/model_checker/__init__.py\n"
     ]
    },
    {
     "data": {
      "application/vnd.jupyter.widget-view+json": {
       "model_id": "651146d5a0fc4e24a7978f501846bd7e",
       "version_major": 2,
       "version_minor": 0
      },
      "text/plain": [
       "HBox(children=(VBox(children=(Text(value='(p → q)', description='Formula:', style=TextStyle(description_width='i…"
      ]
     },
     "metadata": {},
     "output_type": "display_data"
    }
   ],
   "source": [
    "# Test interactive explorer\n",
    "try:\n",
    "    print(\"Creating interactive explorer...\")\n",
    "    explorer = ModelExplorer()\n",
    "    explorer.display()\n",
    "except Exception as e:\n",
    "    print(f\"Error creating interactive explorer: {str(e)}\")\n",
    "    import traceback\n",
    "    traceback.print_exc()"
   ]
  }
 ],
 "metadata": {
  "kernelspec": {
   "display_name": "Python 3 (ipykernel)",
   "language": "python",
   "name": "python3"
  },
  "language_info": {
   "codemirror_mode": {
    "name": "ipython",
    "version": 3
   },
   "file_extension": ".py",
   "mimetype": "text/x-python",
   "name": "python",
   "nbconvert_exporter": "python",
   "pygments_lexer": "ipython3",
   "version": "3.12.8"
  }
 },
 "nbformat": 4,
 "nbformat_minor": 4
}
